{
 "cells": [
  {
   "cell_type": "markdown",
   "metadata": {},
   "source": [
    "# Análise de dados das tabelas\n"
   ]
  },
  {
   "cell_type": "markdown",
   "metadata": {},
   "source": [
    "### Sobre entradas e sáidas de pesos\n",
    "\n",
    "> #### Dados sobre pesos de entrada e saida\n",
    "    > |   Entradas   | Mediana     | Percentil 75   |Percentil 90   |\n",
    "    > | ----------- | ----------- | ---------- | ---------- | \n",
    "    > | Input_weight| 0.04434     |0.0463983   |0.04796 | \n",
    "    > |Output_weight| 3.167       |3.3573129    |3.52248 | "
   ]
  },
  {
   "cell_type": "code",
   "execution_count": 1,
   "metadata": {},
   "outputs": [
    {
     "data": {
      "text/html": [
       "<div>\n",
       "<style scoped>\n",
       "    .dataframe tbody tr th:only-of-type {\n",
       "        vertical-align: middle;\n",
       "    }\n",
       "\n",
       "    .dataframe tbody tr th {\n",
       "        vertical-align: top;\n",
       "    }\n",
       "\n",
       "    .dataframe thead th {\n",
       "        text-align: right;\n",
       "    }\n",
       "</style>\n",
       "<table border=\"1\" class=\"dataframe\">\n",
       "  <thead>\n",
       "    <tr style=\"text-align: right;\">\n",
       "      <th></th>\n",
       "      <th>uuid</th>\n",
       "      <th>incoming_date</th>\n",
       "      <th>outgoing_date</th>\n",
       "      <th>input_total</th>\n",
       "      <th>input_weight</th>\n",
       "      <th>input_weight_total</th>\n",
       "      <th>output_total</th>\n",
       "      <th>output_age</th>\n",
       "      <th>output_age_total</th>\n",
       "      <th>output_weight</th>\n",
       "      <th>...</th>\n",
       "      <th>feed_per_capita</th>\n",
       "      <th>weight_gain_daily</th>\n",
       "      <th>weight_avg_by_age</th>\n",
       "      <th>feed_conversion_ratio</th>\n",
       "      <th>feed_conversion_ratio_adj</th>\n",
       "      <th>balance</th>\n",
       "      <th>deaths</th>\n",
       "      <th>mortality</th>\n",
       "      <th>density_stocking</th>\n",
       "      <th>europe_efficience_index</th>\n",
       "    </tr>\n",
       "  </thead>\n",
       "  <tbody>\n",
       "    <tr>\n",
       "      <th>0</th>\n",
       "      <td>04ef96f7-f110-469d-a685-2f45708ae94b</td>\n",
       "      <td>2021-02-06</td>\n",
       "      <td>2021-03-24</td>\n",
       "      <td>19600.0</td>\n",
       "      <td>0.04742</td>\n",
       "      <td>929.432</td>\n",
       "      <td>18992</td>\n",
       "      <td>45.281250</td>\n",
       "      <td>8.599815e+05</td>\n",
       "      <td>2.798547</td>\n",
       "      <td>...</td>\n",
       "      <td>5.439031</td>\n",
       "      <td>42.0</td>\n",
       "      <td>1.401259</td>\n",
       "      <td>2.005738</td>\n",
       "      <td>2.100198</td>\n",
       "      <td>19600.0</td>\n",
       "      <td>513.0</td>\n",
       "      <td>2.617347</td>\n",
       "      <td>0.133333</td>\n",
       "      <td>298.575718</td>\n",
       "    </tr>\n",
       "    <tr>\n",
       "      <th>1</th>\n",
       "      <td>0975479f-edf6-4d21-acd7-65874c8aa369</td>\n",
       "      <td>2021-06-05</td>\n",
       "      <td>2021-07-21</td>\n",
       "      <td>21500.0</td>\n",
       "      <td>0.04527</td>\n",
       "      <td>973.305</td>\n",
       "      <td>20536</td>\n",
       "      <td>45.297222</td>\n",
       "      <td>9.302238e+05</td>\n",
       "      <td>2.612485</td>\n",
       "      <td>...</td>\n",
       "      <td>4.835767</td>\n",
       "      <td>42.0</td>\n",
       "      <td>1.299397</td>\n",
       "      <td>1.937912</td>\n",
       "      <td>2.084791</td>\n",
       "      <td>21500.0</td>\n",
       "      <td>958.0</td>\n",
       "      <td>4.455814</td>\n",
       "      <td>0.188596</td>\n",
       "      <td>284.266417</td>\n",
       "    </tr>\n",
       "    <tr>\n",
       "      <th>2</th>\n",
       "      <td>1c226a2d-32d9-4f3e-b8ca-b58244909f6f</td>\n",
       "      <td>2022-05-11</td>\n",
       "      <td>2022-06-25</td>\n",
       "      <td>20500.0</td>\n",
       "      <td>0.04583</td>\n",
       "      <td>939.515</td>\n",
       "      <td>19779</td>\n",
       "      <td>44.434028</td>\n",
       "      <td>8.788606e+05</td>\n",
       "      <td>2.874766</td>\n",
       "      <td>...</td>\n",
       "      <td>4.938628</td>\n",
       "      <td>42.0</td>\n",
       "      <td>1.434933</td>\n",
       "      <td>1.780373</td>\n",
       "      <td>1.861681</td>\n",
       "      <td>20498.0</td>\n",
       "      <td>751.0</td>\n",
       "      <td>3.663415</td>\n",
       "      <td>0.142361</td>\n",
       "      <td>350.611656</td>\n",
       "    </tr>\n",
       "    <tr>\n",
       "      <th>3</th>\n",
       "      <td>1fe609a8-ef0e-4506-a39a-9e21923f505f</td>\n",
       "      <td>2023-03-03</td>\n",
       "      <td>2023-04-20</td>\n",
       "      <td>20000.0</td>\n",
       "      <td>0.04611</td>\n",
       "      <td>922.200</td>\n",
       "      <td>19085</td>\n",
       "      <td>47.381944</td>\n",
       "      <td>9.042844e+05</td>\n",
       "      <td>3.497511</td>\n",
       "      <td>...</td>\n",
       "      <td>5.950045</td>\n",
       "      <td>42.0</td>\n",
       "      <td>1.731338</td>\n",
       "      <td>1.782607</td>\n",
       "      <td>1.716493</td>\n",
       "      <td>19998.0</td>\n",
       "      <td>795.0</td>\n",
       "      <td>3.975000</td>\n",
       "      <td>0.126984</td>\n",
       "      <td>395.141688</td>\n",
       "    </tr>\n",
       "    <tr>\n",
       "      <th>4</th>\n",
       "      <td>2a0d7cf8-e37d-4bfd-969a-c66f775e0ab9</td>\n",
       "      <td>2022-01-17</td>\n",
       "      <td>2022-03-02</td>\n",
       "      <td>20500.0</td>\n",
       "      <td>0.04491</td>\n",
       "      <td>920.655</td>\n",
       "      <td>19878</td>\n",
       "      <td>43.545139</td>\n",
       "      <td>8.655903e+05</td>\n",
       "      <td>2.545528</td>\n",
       "      <td>...</td>\n",
       "      <td>4.581816</td>\n",
       "      <td>42.0</td>\n",
       "      <td>1.275925</td>\n",
       "      <td>1.855455</td>\n",
       "      <td>2.019073</td>\n",
       "      <td>20491.0</td>\n",
       "      <td>593.0</td>\n",
       "      <td>2.892683</td>\n",
       "      <td>0.162698</td>\n",
       "      <td>305.496793</td>\n",
       "    </tr>\n",
       "    <tr>\n",
       "      <th>...</th>\n",
       "      <td>...</td>\n",
       "      <td>...</td>\n",
       "      <td>...</td>\n",
       "      <td>...</td>\n",
       "      <td>...</td>\n",
       "      <td>...</td>\n",
       "      <td>...</td>\n",
       "      <td>...</td>\n",
       "      <td>...</td>\n",
       "      <td>...</td>\n",
       "      <td>...</td>\n",
       "      <td>...</td>\n",
       "      <td>...</td>\n",
       "      <td>...</td>\n",
       "      <td>...</td>\n",
       "      <td>...</td>\n",
       "      <td>...</td>\n",
       "      <td>...</td>\n",
       "      <td>...</td>\n",
       "      <td>...</td>\n",
       "      <td>...</td>\n",
       "    </tr>\n",
       "    <tr>\n",
       "      <th>18042</th>\n",
       "      <td>e68a2882-a594-446a-9122-ce73dc900a56</td>\n",
       "      <td>2022-07-12</td>\n",
       "      <td>2022-08-26</td>\n",
       "      <td>34000.0</td>\n",
       "      <td>0.04200</td>\n",
       "      <td>1428.000</td>\n",
       "      <td>31482</td>\n",
       "      <td>44.416667</td>\n",
       "      <td>1.398326e+06</td>\n",
       "      <td>3.142431</td>\n",
       "      <td>...</td>\n",
       "      <td>5.020294</td>\n",
       "      <td>42.0</td>\n",
       "      <td>1.532536</td>\n",
       "      <td>1.725361</td>\n",
       "      <td>1.738907</td>\n",
       "      <td>34000.0</td>\n",
       "      <td>2194.0</td>\n",
       "      <td>6.452941</td>\n",
       "      <td>0.307971</td>\n",
       "      <td>379.684668</td>\n",
       "    </tr>\n",
       "    <tr>\n",
       "      <th>18043</th>\n",
       "      <td>40202c2a-a618-4415-bca5-06b2ceeb3827</td>\n",
       "      <td>2021-10-21</td>\n",
       "      <td>2021-12-06</td>\n",
       "      <td>32200.0</td>\n",
       "      <td>0.03800</td>\n",
       "      <td>1223.600</td>\n",
       "      <td>30660</td>\n",
       "      <td>46.000000</td>\n",
       "      <td>1.410360e+06</td>\n",
       "      <td>3.137965</td>\n",
       "      <td>...</td>\n",
       "      <td>5.287205</td>\n",
       "      <td>42.0</td>\n",
       "      <td>1.550010</td>\n",
       "      <td>1.769546</td>\n",
       "      <td>1.784142</td>\n",
       "      <td>32200.0</td>\n",
       "      <td>1325.0</td>\n",
       "      <td>4.114907</td>\n",
       "      <td>1.341667</td>\n",
       "      <td>367.066463</td>\n",
       "    </tr>\n",
       "    <tr>\n",
       "      <th>18044</th>\n",
       "      <td>46598bfa-38a9-4604-b812-114cea9e4bba</td>\n",
       "      <td>2021-08-14</td>\n",
       "      <td>2021-10-01</td>\n",
       "      <td>31400.0</td>\n",
       "      <td>0.04600</td>\n",
       "      <td>1444.400</td>\n",
       "      <td>30440</td>\n",
       "      <td>48.000000</td>\n",
       "      <td>1.461120e+06</td>\n",
       "      <td>3.435611</td>\n",
       "      <td>...</td>\n",
       "      <td>6.226815</td>\n",
       "      <td>42.0</td>\n",
       "      <td>1.714495</td>\n",
       "      <td>1.869593</td>\n",
       "      <td>1.814155</td>\n",
       "      <td>31400.0</td>\n",
       "      <td>940.0</td>\n",
       "      <td>2.993631</td>\n",
       "      <td>0.817708</td>\n",
       "      <td>371.134014</td>\n",
       "    </tr>\n",
       "    <tr>\n",
       "      <th>18045</th>\n",
       "      <td>47c980bb-ec67-4768-9779-1f19dee57c4f</td>\n",
       "      <td>2021-12-23</td>\n",
       "      <td>2022-02-08</td>\n",
       "      <td>31000.0</td>\n",
       "      <td>0.04100</td>\n",
       "      <td>1271.000</td>\n",
       "      <td>30058</td>\n",
       "      <td>47.000000</td>\n",
       "      <td>1.412726e+06</td>\n",
       "      <td>3.611019</td>\n",
       "      <td>...</td>\n",
       "      <td>5.941516</td>\n",
       "      <td>42.0</td>\n",
       "      <td>1.798470</td>\n",
       "      <td>1.696950</td>\n",
       "      <td>1.600240</td>\n",
       "      <td>31000.0</td>\n",
       "      <td>973.0</td>\n",
       "      <td>3.138710</td>\n",
       "      <td>1.291667</td>\n",
       "      <td>438.996551</td>\n",
       "    </tr>\n",
       "    <tr>\n",
       "      <th>18046</th>\n",
       "      <td>5a77e9e3-8d3a-407c-8f38-f203382d78e8</td>\n",
       "      <td>2022-02-25</td>\n",
       "      <td>2022-04-11</td>\n",
       "      <td>31000.0</td>\n",
       "      <td>0.04800</td>\n",
       "      <td>1488.000</td>\n",
       "      <td>29599</td>\n",
       "      <td>44.625000</td>\n",
       "      <td>1.320855e+06</td>\n",
       "      <td>3.430183</td>\n",
       "      <td>...</td>\n",
       "      <td>5.463387</td>\n",
       "      <td>42.0</td>\n",
       "      <td>1.699995</td>\n",
       "      <td>1.668128</td>\n",
       "      <td>1.613967</td>\n",
       "      <td>31000.0</td>\n",
       "      <td>1391.0</td>\n",
       "      <td>4.487097</td>\n",
       "      <td>0.807292</td>\n",
       "      <td>439.972146</td>\n",
       "    </tr>\n",
       "  </tbody>\n",
       "</table>\n",
       "<p>18047 rows × 22 columns</p>\n",
       "</div>"
      ],
      "text/plain": [
       "                                       uuid incoming_date outgoing_date   \n",
       "0      04ef96f7-f110-469d-a685-2f45708ae94b    2021-02-06    2021-03-24  \\\n",
       "1      0975479f-edf6-4d21-acd7-65874c8aa369    2021-06-05    2021-07-21   \n",
       "2      1c226a2d-32d9-4f3e-b8ca-b58244909f6f    2022-05-11    2022-06-25   \n",
       "3      1fe609a8-ef0e-4506-a39a-9e21923f505f    2023-03-03    2023-04-20   \n",
       "4      2a0d7cf8-e37d-4bfd-969a-c66f775e0ab9    2022-01-17    2022-03-02   \n",
       "...                                     ...           ...           ...   \n",
       "18042  e68a2882-a594-446a-9122-ce73dc900a56    2022-07-12    2022-08-26   \n",
       "18043  40202c2a-a618-4415-bca5-06b2ceeb3827    2021-10-21    2021-12-06   \n",
       "18044  46598bfa-38a9-4604-b812-114cea9e4bba    2021-08-14    2021-10-01   \n",
       "18045  47c980bb-ec67-4768-9779-1f19dee57c4f    2021-12-23    2022-02-08   \n",
       "18046  5a77e9e3-8d3a-407c-8f38-f203382d78e8    2022-02-25    2022-04-11   \n",
       "\n",
       "       input_total  input_weight  input_weight_total  output_total   \n",
       "0          19600.0       0.04742             929.432         18992  \\\n",
       "1          21500.0       0.04527             973.305         20536   \n",
       "2          20500.0       0.04583             939.515         19779   \n",
       "3          20000.0       0.04611             922.200         19085   \n",
       "4          20500.0       0.04491             920.655         19878   \n",
       "...            ...           ...                 ...           ...   \n",
       "18042      34000.0       0.04200            1428.000         31482   \n",
       "18043      32200.0       0.03800            1223.600         30660   \n",
       "18044      31400.0       0.04600            1444.400         30440   \n",
       "18045      31000.0       0.04100            1271.000         30058   \n",
       "18046      31000.0       0.04800            1488.000         29599   \n",
       "\n",
       "       output_age  output_age_total  output_weight  ...  feed_per_capita   \n",
       "0       45.281250      8.599815e+05       2.798547  ...         5.439031  \\\n",
       "1       45.297222      9.302238e+05       2.612485  ...         4.835767   \n",
       "2       44.434028      8.788606e+05       2.874766  ...         4.938628   \n",
       "3       47.381944      9.042844e+05       3.497511  ...         5.950045   \n",
       "4       43.545139      8.655903e+05       2.545528  ...         4.581816   \n",
       "...           ...               ...            ...  ...              ...   \n",
       "18042   44.416667      1.398326e+06       3.142431  ...         5.020294   \n",
       "18043   46.000000      1.410360e+06       3.137965  ...         5.287205   \n",
       "18044   48.000000      1.461120e+06       3.435611  ...         6.226815   \n",
       "18045   47.000000      1.412726e+06       3.611019  ...         5.941516   \n",
       "18046   44.625000      1.320855e+06       3.430183  ...         5.463387   \n",
       "\n",
       "       weight_gain_daily  weight_avg_by_age  feed_conversion_ratio   \n",
       "0                   42.0           1.401259               2.005738  \\\n",
       "1                   42.0           1.299397               1.937912   \n",
       "2                   42.0           1.434933               1.780373   \n",
       "3                   42.0           1.731338               1.782607   \n",
       "4                   42.0           1.275925               1.855455   \n",
       "...                  ...                ...                    ...   \n",
       "18042               42.0           1.532536               1.725361   \n",
       "18043               42.0           1.550010               1.769546   \n",
       "18044               42.0           1.714495               1.869593   \n",
       "18045               42.0           1.798470               1.696950   \n",
       "18046               42.0           1.699995               1.668128   \n",
       "\n",
       "       feed_conversion_ratio_adj  balance  deaths  mortality   \n",
       "0                       2.100198  19600.0   513.0   2.617347  \\\n",
       "1                       2.084791  21500.0   958.0   4.455814   \n",
       "2                       1.861681  20498.0   751.0   3.663415   \n",
       "3                       1.716493  19998.0   795.0   3.975000   \n",
       "4                       2.019073  20491.0   593.0   2.892683   \n",
       "...                          ...      ...     ...        ...   \n",
       "18042                   1.738907  34000.0  2194.0   6.452941   \n",
       "18043                   1.784142  32200.0  1325.0   4.114907   \n",
       "18044                   1.814155  31400.0   940.0   2.993631   \n",
       "18045                   1.600240  31000.0   973.0   3.138710   \n",
       "18046                   1.613967  31000.0  1391.0   4.487097   \n",
       "\n",
       "       density_stocking  europe_efficience_index  \n",
       "0              0.133333               298.575718  \n",
       "1              0.188596               284.266417  \n",
       "2              0.142361               350.611656  \n",
       "3              0.126984               395.141688  \n",
       "4              0.162698               305.496793  \n",
       "...                 ...                      ...  \n",
       "18042          0.307971               379.684668  \n",
       "18043          1.341667               367.066463  \n",
       "18044          0.817708               371.134014  \n",
       "18045          1.291667               438.996551  \n",
       "18046          0.807292               439.972146  \n",
       "\n",
       "[18047 rows x 22 columns]"
      ]
     },
     "execution_count": 1,
     "metadata": {},
     "output_type": "execute_result"
    }
   ],
   "source": [
    "import pandas as pd\n",
    "df = pd.read_csv('data/lot_info_15_ago_2023.csv')\n",
    "df\n"
   ]
  },
  {
   "cell_type": "code",
   "execution_count": 4,
   "metadata": {},
   "outputs": [
    {
     "data": {
      "text/plain": [
       "array([[<Axes: title={'center': 'output_weight'}>]], dtype=object)"
      ]
     },
     "execution_count": 4,
     "metadata": {},
     "output_type": "execute_result"
    },
    {
     "data": {
      "image/png": "[encoded data removed]",
      "text/plain": [
       "<Figure size 1000x800 with 1 Axes>"
      ]
     },
     "metadata": {},
     "output_type": "display_data"
    }
   ],
   "source": [
    "## histograma de input_weight e output_weight com pandas\n",
    "df[['output_weight']].hist(bins=30, figsize=(10,8))"
   ]
  },
  {
   "cell_type": "code",
   "execution_count": 8,
   "metadata": {},
   "outputs": [
    {
     "data": {
      "text/plain": [
       "array([[<Axes: title={'center': 'input_weight'}>]], dtype=object)"
      ]
     },
     "execution_count": 8,
     "metadata": {},
     "output_type": "execute_result"
    },
    {
     "data": {
      "image/png": "[encoded data removed]",
      "text/plain": [
       "<Figure size 1000x800 with 1 Axes>"
      ]
     },
     "metadata": {},
     "output_type": "display_data"
    }
   ],
   "source": [
    "## histograma de input_weight indo de 0 a 0.6\n",
    "df[['input_weight']].hist(bins=30, figsize=(10,8), range=(0,0.06))"
   ]
  },
  {
   "cell_type": "code",
   "execution_count": 5,
   "metadata": {},
   "outputs": [
    {
     "data": {
      "text/plain": [
       "<Axes: >"
      ]
     },
     "execution_count": 5,
     "metadata": {},
     "output_type": "execute_result"
    },
    {
     "data": {
      "image/png": "[encoded data removed]",
      "text/plain": [
       "<Figure size 640x480 with 1 Axes>"
      ]
     },
     "metadata": {},
     "output_type": "display_data"
    }
   ],
   "source": [
    "# boxplot de input_weight e output_weight com pandas\n",
    "df[['output_weight']].boxplot()"
   ]
  },
  {
   "cell_type": "code",
   "execution_count": 7,
   "metadata": {},
   "outputs": [
    {
     "data": {
      "image/png": "[encoded data removed]",
      "text/plain": [
       "<Figure size 640x480 with 1 Axes>"
      ]
     },
     "metadata": {},
     "output_type": "display_data"
    }
   ],
   "source": [
    "import matplotlib.pyplot as plt\n",
    "data = df[['input_weight']]\n",
    "ax = data.boxplot()\n",
    "ax.set_ylim(0, 0.08)\n",
    "plt.show()"
   ]
  },
  {
   "cell_type": "markdown",
   "metadata": {},
   "source": [
    "### Valores  contidos nas colunas\n",
    "\n",
    "> #### Valores isolados Input_weight\n",
    "    > |             | >0.06    |    NaN    |      Max      |\n",
    "    > | ---------   | ---------|---------- | --------      |\n",
    "    > | Input_weight| 38       |   19      |  599391.0     | \n",
    "\n",
    "\n",
    "> #### Valores isolados Output_weight\n",
    "    > |             | >4.5     |    NaN    |      Max      |\n",
    "    > | ---------   | ---------|---------- | --------     |\n",
    "    > | Input_weight| 1        |   0      |  4.58961474   | \n"
   ]
  },
  {
   "cell_type": "code",
   "execution_count": 17,
   "metadata": {},
   "outputs": [
    {
     "data": {
      "image/png": "[encoded data removed]",
      "text/plain": [
       "<Figure size 1000x600 with 1 Axes>"
      ]
     },
     "metadata": {},
     "output_type": "display_data"
    }
   ],
   "source": [
    "# Converta a coluna incoming_date para datetime\n",
    "df['incoming_date'] = pd.to_datetime(df['incoming_date'])\n",
    "\n",
    "# Crie o gráfico de dispersão\n",
    "ax = df.plot.scatter(x='incoming_date', y='input_weight', figsize=(10, 6))\n",
    "\n",
    "# Defina os limites do eixo y para variar entre 0 e 0.3\n",
    "ax.set_ylim(0, 0.6)\n",
    "\n",
    "# Rotacione os rótulos do eixo x para exibi-los na vertical\n",
    "ax.tick_params(axis='x', rotation=45)\n",
    "\n",
    "# Configure o título dos eixos\n",
    "plt.xlabel('Data de Entrada')\n",
    "plt.ylabel('Peso de Entrada (input_weight)')\n",
    "\n",
    "# Mostra o gráfico\n",
    "plt.tight_layout()\n",
    "plt.show()"
   ]
  },
  {
   "cell_type": "code",
   "execution_count": 5,
   "metadata": {},
   "outputs": [
    {
     "data": {
      "text/plain": [
       "uuid                         1\n",
       "incoming_date                1\n",
       "outgoing_date                1\n",
       "input_total                  1\n",
       "input_weight                 1\n",
       "input_weight_total           1\n",
       "output_total                 1\n",
       "output_age                   1\n",
       "output_age_total             1\n",
       "output_weight                1\n",
       "output_weight_total          1\n",
       "feed_total                   1\n",
       "feed_per_capita              1\n",
       "weight_gain_daily            1\n",
       "weight_avg_by_age            1\n",
       "feed_conversion_ratio        1\n",
       "feed_conversion_ratio_adj    1\n",
       "balance                      1\n",
       "deaths                       1\n",
       "mortality                    1\n",
       "density_stocking             1\n",
       "europe_efficience_index      1\n",
       "dtype: int64"
      ]
     },
     "execution_count": 5,
     "metadata": {},
     "output_type": "execute_result"
    }
   ],
   "source": [
    "# contar quantas entradas tem pra o uuid 04ef96f7-f110-469d-a685-2f45708ae94b\n",
    "df[df['uuid'] == '1c226a2d-32d9-4f3e-b8ca-b58244909f6f'].count()"
   ]
  },
  {
   "cell_type": "code",
   "execution_count": 4,
   "metadata": {},
   "outputs": [
    {
     "data": {
      "text/plain": [
       "18047"
      ]
     },
     "execution_count": 4,
     "metadata": {},
     "output_type": "execute_result"
    }
   ],
   "source": [
    "#contar quantos uuids unicos tem\n",
    "df['uuid'].count()"
   ]
  },
  {
   "cell_type": "code",
   "execution_count": 4,
   "metadata": {},
   "outputs": [
    {
     "data": {
      "text/plain": [
       "19"
      ]
     },
     "execution_count": 4,
     "metadata": {},
     "output_type": "execute_result"
    }
   ],
   "source": [
    "#contar quantas nan existem em input_weight_total\n",
    "df['input_weight_total'].isna().sum()\n"
   ]
  },
  {
   "cell_type": "code",
   "execution_count": 5,
   "metadata": {},
   "outputs": [
    {
     "data": {
      "text/plain": [
       "19"
      ]
     },
     "execution_count": 5,
     "metadata": {},
     "output_type": "execute_result"
    }
   ],
   "source": [
    "# input_weight\n",
    "df['input_weight'].isna().sum()"
   ]
  },
  {
   "cell_type": "code",
   "execution_count": 6,
   "metadata": {},
   "outputs": [
    {
     "data": {
      "text/plain": [
       "0"
      ]
     },
     "execution_count": 6,
     "metadata": {},
     "output_type": "execute_result"
    }
   ],
   "source": [
    "#\toutput_weight\n",
    "df['output_weight'].isna().sum()"
   ]
  },
  {
   "cell_type": "code",
   "execution_count": null,
   "metadata": {},
   "outputs": [],
   "source": []
  }
 ],
 "metadata": {
  "kernelspec": {
   "display_name": "Python 3",
   "language": "python",
   "name": "python3"
  },
  "language_info": {
   "codemirror_mode": {
    "name": "ipython",
    "version": 3
   },
   "file_extension": ".py",
   "mimetype": "text/x-python",
   "name": "python",
   "nbconvert_exporter": "python",
   "pygments_lexer": "ipython3",
   "version": "3.11.2"
  },
  "orig_nbformat": 4
 },
 "nbformat": 4,
 "nbformat_minor": 2
}
